{
 "cells": [
  {
   "attachments": {},
   "cell_type": "markdown",
   "metadata": {},
   "source": [
    "# Document Question Answering with local persistence\n",
    "\n",
    "An example of using Chroma DB and LangChain to do question answering over documents, with a locally persisted database. \n",
    "You can store embeddings and documents, then use them again later."
   ]
  },
  {
   "cell_type": "code",
   "execution_count": 17,
   "metadata": {},
   "outputs": [],
   "source": [
    "from langchain.vectorstores import Chroma\n",
    "from langchain.embeddings import OpenAIEmbeddings\n",
    "from langchain.text_splitter import RecursiveCharacterTextSplitter\n",
    "from langchain.llms import OpenAI\n",
    "from langchain.chains import VectorDBQA\n",
    "from langchain.document_loaders import PyPDFLoader, csv_loader, DirectoryLoader\n",
    "from api import apikey"
   ]
  },
  {
   "attachments": {},
   "cell_type": "markdown",
   "metadata": {},
   "source": [
    "## Load and process documents\n",
    "\n",
    "Load documents to do question answering over. If you want to do this over your documents, this is the section you should replace.\n",
    "\n",
    "Next we split documents into small chunks. This is so we can find the most relevant chunks for a query and pass only those into the LLM."
   ]
  },
  {
   "cell_type": "code",
   "execution_count": 44,
   "metadata": {},
   "outputs": [],
   "source": [
    "a = DirectoryLoader('pdfs/')"
   ]
  },
  {
   "cell_type": "code",
   "execution_count": 45,
   "metadata": {},
   "outputs": [
    {
     "data": {
      "text/plain": [
       "<langchain.document_loaders.directory.DirectoryLoader at 0x15e0591f390>"
      ]
     },
     "execution_count": 45,
     "metadata": {},
     "output_type": "execute_result"
    }
   ],
   "source": [
    "a"
   ]
  },
  {
   "cell_type": "code",
   "execution_count": 46,
   "metadata": {},
   "outputs": [],
   "source": [
    "pdfss = []\n",
    "csvs = []\n",
    "# def vactorDB():\n",
    "import os\n",
    "for file in os.listdir('pdfs/'):\n",
    "    if file.endswith((\".pdf\")):\n",
    "        file_path = os.path.join('pdfs/', file)\n",
    "        # print(file_path)\n",
    "        from langchain.document_loaders import PyPDFLoader\n",
    "\n",
    "        loader = PyPDFLoader(file_path)\n",
    "        pages = loader.load()\n",
    "        pdfss.append(pages)\n",
    "    elif file.endswith((\".csv\")):\n",
    "        file_path = os.path.join('pdfs/', file)\n",
    "        # import pandas as pd\n",
    "        # df = pd.read_csv(file_path)\n",
    "        # df = df.to_json(orient='records', force_ascii=False, lines=True, default_handler=str)\n",
    "        loader = csv_loader.CSVLoader(file_path)\n",
    "        # print(loader)\n",
    "        pages = loader.load()\n",
    "        csvs.append(pages)\n",
    "        # csvs.append(df)"
   ]
  },
  {
   "cell_type": "code",
   "execution_count": 47,
   "metadata": {},
   "outputs": [],
   "source": [
    "final = pdfss + csvs"
   ]
  },
  {
   "cell_type": "code",
   "execution_count": 48,
   "metadata": {},
   "outputs": [
    {
     "name": "stdout",
     "output_type": "stream",
     "text": [
      "0\n",
      "1\n"
     ]
    }
   ],
   "source": [
    "from api import apikey\n",
    "embeddings = OpenAIEmbeddings(openai_api_key=apikey)\n",
    "for i in range(len(final)):\n",
    "    db = Chroma.from_documents(final[i], embeddings, persist_directory=\"mydb\")\n",
    "    db.persist()\n",
    "    print(i)\n",
    "\n",
    "# # db.get()"
   ]
  },
  {
   "cell_type": "code",
   "execution_count": 49,
   "metadata": {},
   "outputs": [
    {
     "name": "stdout",
     "output_type": "stream",
     "text": [
      "2\n",
      "0\n"
     ]
    }
   ],
   "source": [
    "print(len(pdfss))\n",
    "print(len(csvs))"
   ]
  },
  {
   "cell_type": "code",
   "execution_count": 50,
   "metadata": {},
   "outputs": [
    {
     "name": "stdout",
     "output_type": "stream",
     "text": [
      "2\n"
     ]
    }
   ],
   "source": [
    "\n",
    "print(len(final))"
   ]
  },
  {
   "cell_type": "code",
   "execution_count": 51,
   "metadata": {},
   "outputs": [],
   "source": [
    "embeddings = OpenAIEmbeddings(openai_api_key=apikey)\n",
    "db = Chroma(persist_directory=\"mydb\", embedding_function=embeddings)"
   ]
  },
  {
   "cell_type": "code",
   "execution_count": 52,
   "metadata": {},
   "outputs": [],
   "source": [
    "def retrieve_combined_documents(query, max_combined_docs=2):\n",
    "    retriever = db.as_retriever(search_type=\"mmr\")\n",
    "\n",
    "    rev_doc = retriever.get_relevant_documents(query)\n",
    "    lim_rev_doc = rev_doc[:max_combined_docs]\n",
    "\n",
    "    docs = db.similarity_search(query)\n",
    "    lim_docs = docs[:max_combined_docs]\n",
    "\n",
    "    combined_docs = str(lim_rev_doc) + str(lim_docs)\n",
    "\n",
    "\n",
    "    return combined_docs"
   ]
  },
  {
   "cell_type": "code",
   "execution_count": 53,
   "metadata": {},
   "outputs": [
    {
     "data": {
      "text/plain": [
       "\"[Document(page_content='Joytainment  \\\\nBooking Procedures for Corporate Events : \\\\n\\\\uf0b7 Process : For entertainment services tailored  to corporate events, requests should be forwarded \\\\nto the Joytainment team.  \\\\n\\\\uf0b7 Contact Information : Team members  can be reached at +923092228910 for bookings and \\\\ninquiries.  \\\\nAdditional Charges for Customizing Services : \\\\n\\\\uf0b7 Charges Communication : \\\\n \\\\nBounce (Ocean Mal l, Karachi) Overview:  \\\\nLocation:  \\\\nhttps://goo.gl/maps/LCA6E1iLLwmDL6GA8  \\\\nAddress:  2nd Floor, Ocean Towers, Karachi, Block 9 Clifton, Karachi, Karachi City, Sindh 75600  \\\\nOperating Hours:  \\\\n\\\\uf0b7 Monday -Thursday: 2 PM – 11 PM  \\\\n\\\\uf0b7 Friday: 3 PM – 11 PM  \\\\n\\\\uf0b7 Saturday: 12 PM – 12 AM  \\\\n\\\\uf0b7 Sunday: 12 PM – 11 PM  \\\\nAge Limit:  \\\\n\\\\uf0b7 Acceptable age for participation: 2.5 years and above.  \\\\nGeneral Customer Instructions:  \\\\n\\\\uf0b7 Mandatory use of grip socks in the arena.  \\\\n\\\\uf0b7 No gum, candies, food, or drinks allowe d. \\\\n\\\\uf0b7 Sharp objects like belt buckles, clothing studs, key chains are prohibited.  \\\\n\\\\uf0b7 Remove all jewelry and empty pockets before entering.  ', metadata={'source': 'pdfs/Joyland Data.pdf', 'page': 2}), Document(page_content='Pakistan:  \\\\nSuper Space  \\\\n\\\\uf0b7 Introduction & Locations : Super Space, with multiple branches in Multan and Karachi, offers a \\\\nvariety of exciting rides and attractions. Locations include Ocean Mall and Millennium Mall in \\\\nKarachi, and Sharif Complex and Mall of Multan in Multan.  \\\\n1. Location of Sharif Complex: https://maps.app.goo.gl/nCiLqYy9mQZsPSycA  \\\\n\\\\uf0b7 Rides in Multan (Sharif Complex, Mall of Multan) : Basketball, Alien Armageddon, Need for \\\\nSpeed, Ocean Air Hock ey, Cobalo, Dodgem Cars.  \\\\n\\\\uf0b7 Rides in Karachi (Ocean and Millennium Mall) : Smash Room, Laser Tag, The Haunted House, \\\\nLaser Maze, Bumper Cars, and Arcade  Game.  \\\\n\\\\uf0b7 Operating Hours & Pricing : \\\\n\\\\uf0b7 Super Space Ocean Mall: Mon –Thu 2 PM –11 PM, Fri 3 PM –11 PM, Sat 12 PM –12 A M, \\\\nSun 12 PM –11 PM.  \\\\n\\\\uf0b7 Super Space Millennium Mall: Mon –Thu 2 PM –10:30 PM, Fri 3 PM –12 PM, Sat 12 PM –\\\\n12 AM, Sun 3 PM –12 AM.  \\\\n\\\\uf0b7 Age Restrictions : Entry age is 3 years and above.  \\\\n\\\\uf0b7 Membership/Loyalty Programs : Currently, no loyalty programs are available, but plans are in \\\\nprogress.  \\\\nPeek -a-bear  \\\\n\\\\uf0b7 Introduction : Peek -a-bear combines education and entertainment with engaging activities, \\\\nincluding science experiments and special occasion celebrations.  \\\\n\\\\uf0b7 Entry Fees & Fun Passes : \\\\n\\\\uf0b7 Peekabear Ocean Mall: Fun Pass Mon -Thu: 800, Fri -Sun: 900; Extreme Pass Mon -Thu: \\\\n1100, Fri -Sun: 1200.  \\\\nLocation: https://maps.app.goo.gl/p9yqsJ35W5okReiz5  \\\\n\\\\uf0b7 Peekabear North Walk: Fun Pass Mon -Thu: 600, Fri -Sun: 700; Extreme Pass Mon -Thu: \\\\n800, Fri -Sun: 900.  \\\\nLocation: https://maps.app.goo.gl/eP1Gpbu5aS6uh8Zr7  ', metadata={'source': 'pdfs/Joyland Data.pdf', 'page': 0})][Document(page_content='Joytainment  \\\\nBooking Procedures for Corporate Events : \\\\n\\\\uf0b7 Process : For entertainment services tailored  to corporate events, requests should be forwarded \\\\nto the Joytainment team.  \\\\n\\\\uf0b7 Contact Information : Team members  can be reached at +923092228910 for bookings and \\\\ninquiries.  \\\\nAdditional Charges for Customizing Services : \\\\n\\\\uf0b7 Charges Communication : \\\\n \\\\nBounce (Ocean Mal l, Karachi) Overview:  \\\\nLocation:  \\\\nhttps://goo.gl/maps/LCA6E1iLLwmDL6GA8  \\\\nAddress:  2nd Floor, Ocean Towers, Karachi, Block 9 Clifton, Karachi, Karachi City, Sindh 75600  \\\\nOperating Hours:  \\\\n\\\\uf0b7 Monday -Thursday: 2 PM – 11 PM  \\\\n\\\\uf0b7 Friday: 3 PM – 11 PM  \\\\n\\\\uf0b7 Saturday: 12 PM – 12 AM  \\\\n\\\\uf0b7 Sunday: 12 PM – 11 PM  \\\\nAge Limit:  \\\\n\\\\uf0b7 Acceptable age for participation: 2.5 years and above.  \\\\nGeneral Customer Instructions:  \\\\n\\\\uf0b7 Mandatory use of grip socks in the arena.  \\\\n\\\\uf0b7 No gum, candies, food, or drinks allowe d. \\\\n\\\\uf0b7 Sharp objects like belt buckles, clothing studs, key chains are prohibited.  \\\\n\\\\uf0b7 Remove all jewelry and empty pockets before entering.  ', metadata={'source': 'pdfs/Joyland Data.pdf', 'page': 2}), Document(page_content='Joytainment  \\\\nBooking Procedures for Corporate Events : \\\\n\\\\uf0b7 Process : For entertainment services tailored to corporate events, requests should be forwarded \\\\nto the Joytainment team.  \\\\n\\\\uf0b7 Contact Information : Team members  can be reached at +923092228910 for bookings and \\\\ninquiries.  \\\\nAdditional Charges for Customizing Services : \\\\n\\\\uf0b7 Charges Communication : \\\\n \\\\nBounce (Ocean Mall, Karachi) Overview:  \\\\nLocation:  \\\\nhttps://goo.gl/maps/LCA6E1iLLwmDL6GA8  \\\\n2nd Floor, Ocean Mall, Clifton, Karachi  \\\\nOperating Hours:  \\\\n\\\\uf0b7 Monday -Thursday: 2 PM – 11 PM  \\\\n\\\\uf0b7 Friday: 3 PM – 11 PM  \\\\n\\\\uf0b7 Saturday: 12 PM – 12 AM  \\\\n\\\\uf0b7 Sunday: 12 PM – 11 PM  \\\\nAge Limit:  \\\\n\\\\uf0b7 Acceptable age for participation: 2.5 years and above . \\\\nGeneral Customer Instructions:  \\\\n\\\\uf0b7 Mandatory use of grip socks in the arena.  \\\\n\\\\uf0b7 No gum, candies, food, or drinks allowed.  \\\\n\\\\uf0b7 Sharp objects like belt buckles, clothing studs, key chains are prohibited.  \\\\n\\\\uf0b7 Remove all jewelry and empty pockets before entering.  ', metadata={'source': 'pdfs/AA Joyland Data.pdf', 'page': 2})]\""
      ]
     },
     "execution_count": 53,
     "metadata": {},
     "output_type": "execute_result"
    }
   ],
   "source": [
    "retrieve_combined_documents('can you send me location of Bounce KHI?')"
   ]
  },
  {
   "attachments": {},
   "cell_type": "markdown",
   "metadata": {},
   "source": [
    "## Persist the Database\n",
    "In a notebook, we should call `persist()` to ensure the embeddings are written to disk.\n",
    "This isn't necessary in a script - the database will be automatically persisted when the client object is destroyed."
   ]
  },
  {
   "attachments": {},
   "cell_type": "markdown",
   "metadata": {},
   "source": [
    "## Load the Database from disk, and create the chain\n",
    "Be sure to pass the same `persist_directory` and `embedding_function` as you did when you instantiated the database. Initialize the chain we will use for question answering."
   ]
  },
  {
   "attachments": {},
   "cell_type": "markdown",
   "metadata": {},
   "source": [
    "## Ask questions!\n",
    "\n",
    "Now we can use the chain to ask questions!"
   ]
  },
  {
   "attachments": {},
   "cell_type": "markdown",
   "metadata": {},
   "source": [
    "## Cleanup\n",
    "\n",
    "When you're done with the database, you can delete it from disk. You can delete the specific collection you're working with (if you have several), or delete the entire database by nuking the persistence directory."
   ]
  },
  {
   "cell_type": "code",
   "execution_count": 10,
   "metadata": {},
   "outputs": [],
   "source": [
    "from langchain import PromptTemplate\n",
    "from langchain.chains import RetrievalQA\n",
    "from langchain.chat_models import ChatOpenAI\n",
    "def generate_prompt(prompt,system_prompt):\n",
    "    \n",
    "    system_prompt = \"\"\"\n",
    "I want you to act as Metutors platform Assistant, you job is to answer users query by using given context.\n",
    "    if user ask in Arabic language your answers must be in Arabic otherwise in english. use the given data to generate answer.\n",
    "    if you cant find any relevent information\n",
    "    inside the context just ask dont tell him you dont have the data given user send contact on support on support@metutors.com.\n",
    "        if user ask in Arabic language your answers should be in Arabic otherwise in english.\n",
    "    This is important that your answers should be in detailed.\n",
    "      use the given data to generate answer.\n",
    "      \n",
    "    \"\"\".strip()\n",
    "    return f\"\"\"\n",
    "    [INST] <>\n",
    "    {system_prompt}\n",
    "    <>\n",
    "\n",
    "    {prompt} [/INST]\n",
    "    \"\"\".strip()"
   ]
  },
  {
   "cell_type": "code",
   "execution_count": 63,
   "metadata": {},
   "outputs": [],
   "source": [
    "SYSTEM_PROMPT = \"\"\"\n",
    "I want you to act as Metutors platform Assistant, you job is to answer users query by using given context.\n",
    "if user ask in Arabic language your answers must be in Arabic otherwise in english. use the given data to generate answer.\n",
    "if you cant find any relevent information\n",
    "inside the context just ask dont tell him you dont have the data given user send contact on support on support@metutors.com.\n",
    "    if user ask in Arabic language your answers should be in Arabic otherwise in english.\n",
    "This is important that your answers should be in detailed.\n",
    "    use the given data to generate answer.\n",
    "\n",
    "    if user ask about any pricing find cost in the given context and tell him\n",
    "    \n",
    "\n",
    "\"\"\"\n",
    "llm = ChatOpenAI(openai_api_key=OPENAI_API_KEY)\n",
    "llm.model_name = \"gpt-4-1106-preview\"\n",
    "template = generate_prompt(\n",
    "    \"\"\"\n",
    "{context}\n",
    "\n",
    "Question: {question}\n",
    "\"\"\",\n",
    "    system_prompt=SYSTEM_PROMPT,\n",
    ")\n",
    "# load from disk\n",
    "embeddings = OpenAIEmbeddings(openai_api_key=OPENAI_API_KEY)\n",
    "db3 = Chroma(persist_directory=\"db\", embedding_function=embeddings)\n",
    "db3.get()\n",
    "prompt = PromptTemplate(template=template, input_variables=[\"context\", \"question\"])\n",
    "# path = os.getcwd()+\"//new//\"\n",
    "qa_chain = RetrievalQA.from_chain_type(\n",
    "    llm=llm,\n",
    "    chain_type=\"stuff\",\n",
    "    retriever=db3.as_retriever(search_kwargs={\"k\": 2}),\n",
    "    return_source_documents=True\n",
    ")"
   ]
  },
  {
   "cell_type": "code",
   "execution_count": 11,
   "metadata": {},
   "outputs": [],
   "source": [
    "# import\n",
    "from langchain.document_loaders import PyPDFLoader\n",
    "from langchain.embeddings.sentence_transformer import SentenceTransformerEmbeddings\n",
    "from langchain.text_splitter import CharacterTextSplitter\n",
    "from langchain.vectorstores import Chroma\n",
    "\n",
    "# loader = PyPDFLoader(\"/content/merged_output.pdf\")\n",
    "# documents = loader.load()\n",
    "\n",
    "# text_splitter = CharacterTextSplitter(chunk_size=1000, chunk_overlap=0)\n",
    "# docs = text_splitter.split_documents(documents)\n",
    "\n",
    "# embedding_function = SentenceTransformerEmbeddings(model_name=\"all-MiniLM-L6-v2\")\n",
    "\n",
    "# db = Chroma.from_documents(db, embedding)\n",
    "\n",
    "def retrieve_combined_documents(query, max_combined_docs=2):\n",
    "    retriever = db.as_retriever(search_type=\"mmr\")\n",
    "\n",
    "    rev_doc = retriever.get_relevant_documents(query)\n",
    "    lim_rev_doc = rev_doc\n",
    "\n",
    "    docs = db.similarity_search(query)\n",
    "    lim_docs = docs\n",
    "\n",
    "    combined_docs = lim_rev_doc + lim_docs\n",
    "\n",
    "    return combined_docs"
   ]
  },
  {
   "cell_type": "code",
   "execution_count": 12,
   "metadata": {},
   "outputs": [],
   "source": [
    "a = retrieve_combined_documents('Bounce (Ocean Mall, Karachi) timing')"
   ]
  },
  {
   "cell_type": "code",
   "execution_count": null,
   "metadata": {},
   "outputs": [],
   "source": []
  },
  {
   "cell_type": "code",
   "execution_count": 14,
   "metadata": {},
   "outputs": [
    {
     "data": {
      "text/plain": [
       "8968"
      ]
     },
     "execution_count": 14,
     "metadata": {},
     "output_type": "execute_result"
    }
   ],
   "source": [
    "len(str(a))"
   ]
  }
 ],
 "metadata": {
  "kernelspec": {
   "display_name": "chroma-langchain",
   "language": "python",
   "name": "python3"
  },
  "language_info": {
   "codemirror_mode": {
    "name": "ipython",
    "version": 3
   },
   "file_extension": ".py",
   "mimetype": "text/x-python",
   "name": "python",
   "nbconvert_exporter": "python",
   "pygments_lexer": "ipython3",
   "version": "3.11.4"
  },
  "orig_nbformat": 4,
  "vscode": {
   "interpreter": {
    "hash": "c909e91d0cd7642213937968dfc91c71973575965f56cdcabb1e0b29abe5f7fa"
   }
  }
 },
 "nbformat": 4,
 "nbformat_minor": 2
}
